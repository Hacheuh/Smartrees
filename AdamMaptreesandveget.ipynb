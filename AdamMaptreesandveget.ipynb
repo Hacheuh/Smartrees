{
 "cells": [
  {
   "cell_type": "code",
   "execution_count": null,
   "id": "34a29978",
   "metadata": {},
   "outputs": [],
   "source": [
    " #!pip install earthengine-api --upgrade"
   ]
  },
  {
   "cell_type": "code",
   "execution_count": null,
   "id": "1d292f3d",
   "metadata": {},
   "outputs": [],
   "source": [
    "#!pip install ee folium geehydro"
   ]
  },
  {
   "cell_type": "code",
   "execution_count": 1,
   "id": "3b8bf2f5",
   "metadata": {},
   "outputs": [],
   "source": [
    "%load_ext autoreload\n",
    "%autoreload 2"
   ]
  },
  {
   "cell_type": "code",
   "execution_count": 2,
   "id": "c5629584",
   "metadata": {},
   "outputs": [],
   "source": [
    "import folium\n",
    "import pandas as pd\n",
    "import ee\n",
    "import geemap\n",
    "import datetime\n",
    "from IPython.display import Image\n",
    "import geehydro\n",
    "from IPython.display import display\n",
    "import Smartrees.get_dataFrame as gd"
   ]
  },
  {
   "cell_type": "code",
   "execution_count": 3,
   "id": "9e11675c",
   "metadata": {},
   "outputs": [],
   "source": [
    "import Smartrees.get_Nice_fromopendata as gnf"
   ]
  },
  {
   "cell_type": "code",
   "execution_count": 5,
   "id": "ffd62243",
   "metadata": {},
   "outputs": [
    {
     "ename": "NameError",
     "evalue": "name 'get_trees_coordinates_' is not defined",
     "output_type": "error",
     "traceback": [
      "\u001b[0;31m---------------------------------------------------------------------------\u001b[0m",
      "\u001b[0;31mNameError\u001b[0m                                 Traceback (most recent call last)",
      "\u001b[0;32m/tmp/ipykernel_7221/328463128.py\u001b[0m in \u001b[0;36m<module>\u001b[0;34m\u001b[0m\n\u001b[0;32m----> 1\u001b[0;31m \u001b[0mgnf\u001b[0m\u001b[0;34m.\u001b[0m\u001b[0mtree_maps\u001b[0m\u001b[0;34m(\u001b[0m\u001b[0;34m)\u001b[0m\u001b[0;34m\u001b[0m\u001b[0;34m\u001b[0m\u001b[0m\n\u001b[0m",
      "\u001b[0;32m~/code/Hacheuh/Smartrees/Smartrees/get_Nice_fromopendata.py\u001b[0m in \u001b[0;36mtree_maps\u001b[0;34m(location, zoom, date)\u001b[0m\n\u001b[1;32m     18\u001b[0m \u001b[0;32mdef\u001b[0m \u001b[0mtree_maps\u001b[0m\u001b[0;34m(\u001b[0m\u001b[0mlocation\u001b[0m \u001b[0;34m=\u001b[0m \u001b[0;34m[\u001b[0m\u001b[0;36m43.6961\u001b[0m\u001b[0;34m,\u001b[0m\u001b[0;36m7.27178\u001b[0m\u001b[0;34m]\u001b[0m\u001b[0;34m,\u001b[0m\u001b[0mzoom\u001b[0m\u001b[0;34m=\u001b[0m\u001b[0;36m10\u001b[0m\u001b[0;34m,\u001b[0m\u001b[0mdate\u001b[0m\u001b[0;34m=\u001b[0m\u001b[0;36m2019\u001b[0m\u001b[0;34m)\u001b[0m\u001b[0;34m:\u001b[0m\u001b[0;34m\u001b[0m\u001b[0;34m\u001b[0m\u001b[0m\n\u001b[1;32m     19\u001b[0m     \u001b[0;31m# Create a Map of Nice with trees only\u001b[0m\u001b[0;34m\u001b[0m\u001b[0;34m\u001b[0m\u001b[0;34m\u001b[0m\u001b[0m\n\u001b[0;32m---> 20\u001b[0;31m     \u001b[0mcoords\u001b[0m \u001b[0;34m=\u001b[0m \u001b[0mget_trees_coordinates_\u001b[0m\u001b[0;34m(\u001b[0m\u001b[0mdate\u001b[0m \u001b[0;34m=\u001b[0m \u001b[0mdate\u001b[0m\u001b[0;34m)\u001b[0m\u001b[0;34m\u001b[0m\u001b[0;34m\u001b[0m\u001b[0m\n\u001b[0m\u001b[1;32m     21\u001b[0m     \u001b[0mNice\u001b[0m \u001b[0;34m=\u001b[0m \u001b[0mfolium\u001b[0m\u001b[0;34m.\u001b[0m\u001b[0mMap\u001b[0m\u001b[0;34m(\u001b[0m\u001b[0mlocation\u001b[0m \u001b[0;34m=\u001b[0m \u001b[0mlocation\u001b[0m\u001b[0;34m,\u001b[0m\u001b[0mzoom_start\u001b[0m\u001b[0;34m=\u001b[0m\u001b[0mzoom\u001b[0m\u001b[0;34m)\u001b[0m\u001b[0;34m\u001b[0m\u001b[0;34m\u001b[0m\u001b[0m\n\u001b[1;32m     22\u001b[0m     \u001b[0mtrees\u001b[0m \u001b[0;34m=\u001b[0m \u001b[0mee\u001b[0m\u001b[0;34m.\u001b[0m\u001b[0mGeometry\u001b[0m\u001b[0;34m.\u001b[0m\u001b[0mMultiPoint\u001b[0m\u001b[0;34m(\u001b[0m\u001b[0mcoords\u001b[0m\u001b[0;34m)\u001b[0m\u001b[0;34m\u001b[0m\u001b[0;34m\u001b[0m\u001b[0m\n",
      "\u001b[0;31mNameError\u001b[0m: name 'get_trees_coordinates_' is not defined"
     ]
    }
   ],
   "source": [
    "gnf.tree_maps()"
   ]
  },
  {
   "cell_type": "markdown",
   "id": "ca56787e",
   "metadata": {},
   "source": [
    "# Trees in 2019 in Nice"
   ]
  },
  {
   "cell_type": "code",
   "execution_count": null,
   "id": "a8fa54a0",
   "metadata": {},
   "outputs": [],
   "source": [
    "#ee.Authenticate()\n",
    "ee.Initialize()"
   ]
  },
  {
   "cell_type": "code",
   "execution_count": null,
   "id": "a236bee9",
   "metadata": {},
   "outputs": [],
   "source": [
    "Nice = folium.Map(location = [43.6961,7.27178],zoom_start=10)"
   ]
  },
  {
   "cell_type": "code",
   "execution_count": null,
   "id": "526106ff",
   "metadata": {},
   "outputs": [],
   "source": [
    "Nice.setOptions('SATELLITE')"
   ]
  },
  {
   "cell_type": "code",
   "execution_count": null,
   "id": "d8212dad",
   "metadata": {},
   "outputs": [],
   "source": [
    "trees2019 = pd.read_csv(\"../raw_data/ev-arbre-opendata-2019.csv\",sep = ';')"
   ]
  },
  {
   "cell_type": "code",
   "execution_count": null,
   "id": "2a783162",
   "metadata": {},
   "outputs": [],
   "source": [
    "trees2019"
   ]
  },
  {
   "cell_type": "code",
   "execution_count": null,
   "id": "a0f696f1",
   "metadata": {},
   "outputs": [],
   "source": [
    "all_coords = trees2019.geometry"
   ]
  },
  {
   "cell_type": "code",
   "execution_count": null,
   "id": "16e1a3d9",
   "metadata": {},
   "outputs": [],
   "source": [
    "def get_trees_coordinates(date=2019):\n",
    "    trees = pd.read_csv(f\"../raw_data/ev-arbre-opendata-{date}.csv\",sep = ';')\n",
    "    all_coords = trees.geometry\n",
    "    all_coords2 = all_coords.map(lambda x : eval(x))\n",
    "    coordinates = [coords['coordinates'] for coords in all_coords2]\n",
    "    return coordinates"
   ]
  },
  {
   "cell_type": "code",
   "execution_count": null,
   "id": "e1a356c0",
   "metadata": {},
   "outputs": [],
   "source": [
    "get_trees_coordinates(date=2020)"
   ]
  },
  {
   "cell_type": "code",
   "execution_count": null,
   "id": "87406c1f",
   "metadata": {},
   "outputs": [],
   "source": [
    "def tree_maps(location = [43.6961,7.27178],zoom=10,date=2019,set_options = 'SATELLITE'):\n",
    "    coords = get_trees_coordinates_(date = date)\n",
    "    Nice = folium.Map(location = location,zoom_start=zoom)\n",
    "    trees = ee.Geometry.MultiPoint(coords) \n",
    "    Nice.addLayer(ee.Image().paint(trees,\"green\",1),{},'Trees')\n",
    "    Nice.setCenter(7.2717,43.696,zoom=13)\n",
    "    return Nice"
   ]
  },
  {
   "cell_type": "code",
   "execution_count": null,
   "id": "4e461303",
   "metadata": {},
   "outputs": [],
   "source": [
    "print(tree_maps(date = 2020))"
   ]
  },
  {
   "cell_type": "code",
   "execution_count": null,
   "id": "b8bf7eea",
   "metadata": {},
   "outputs": [],
   "source": [
    "def get_vege_coordinates(date = 2020):\n",
    "    vege2020 = pd.read_csv(f\"../raw_data/ev-inventaire-opendata-{date}.csv\",sep = ';')\n",
    "    vege2020 = vege2020.geometry.map(lambda x : eval(x))\n",
    "    multivege20 = [coords['coordinates'] for coords in vege2020 if coords['type'] == 'MultiPolygon']\n",
    "    vege20 = [coords['coordinates'] for coords in vege2020 if coords['type'] != 'MultiPolygon']\n",
    "    return {\"simplepoly\" : vege20,\"multipoly\" : multivege20}"
   ]
  },
  {
   "cell_type": "code",
   "execution_count": null,
   "id": "3dcb0f02",
   "metadata": {},
   "outputs": [],
   "source": [
    "get_vege_coordinates()"
   ]
  },
  {
   "cell_type": "code",
   "execution_count": null,
   "id": "28691fb1",
   "metadata": {},
   "outputs": [],
   "source": [
    "ee.Initialize()\n",
    "def get_trees_coordinates(date=2019):\n",
    "    trees = pd.read_csv(f\"../raw_data/ev-arbre-opendata-{date}.csv\",sep = ';')\n",
    "    all_coords = trees.geometry\n",
    "    all_coords2 = all_coords.map(lambda x : eval(x))\n",
    "    coordinates = [coords['coordinates'] for coords in all_coords2]\n",
    "    return coordinates\n",
    "\n",
    "def tree_maps(location = [43.6961,7.27178],zoom=10,date=2019):\n",
    "    # Create a Map of Nice with trees only\n",
    "    coords = get_trees_coordinates_(date = date)\n",
    "    Nice = folium.Map(location = location,zoom_start=zoom)\n",
    "    trees = ee.Geometry.MultiPoint(coords) \n",
    "    Nice.addLayer(ee.Image().paint(trees,\"green\",1),{},'Trees')\n",
    "    Nice.setCenter(7.2717,43.696,zoom=13)\n",
    "    return Nice\n",
    "\n",
    "def get_vege_coordinates(date = 2020):\n",
    "    vege2020 = pd.read_csv(f\"../raw_data/ev-inventaire-opendata-{date}.csv\",sep = ';')\n",
    "    vege2020 = vege2020.geometry.map(lambda x : eval(x))\n",
    "    multivege20 = [coords['coordinates'] for coords in vege2020 if coords['type'] == 'MultiPolygon']\n",
    "    vege20 = [coords['coordinates'] for coords in vege2020 if coords['type'] != 'MultiPolygon']\n",
    "    return {\"simplepoly\" : vege20,\"multipoly\" : multivege20}\n",
    "\n",
    "def vege_and_tree():\n",
    "    Nice = tree_maps(location = [43.6961,7.27178],zoom=10,date=2020,set_options = 'SATELLITE')\n",
    "    print(Nice)\n",
    "    data = get_vege_coordinates()\n",
    "    multivege = data[\"multipoly\"]\n",
    "    simplevege = data[\"simplepoly\"]\n",
    "    for i in range(len(multivege)):\n",
    "        multivege201 = ee.Geometry.MultiPolygon(multivege[i])\n",
    "        Nice.addLayer(ee.Image().paint(multivege201,1),{\"color\" : \"662A00\"},'colored')\n",
    "    Nice.addLayer(ee.Image().paint(simplevege,10),{},'Vegetations')\n",
    "    return Nice\n",
    "\n",
    "def show_trees_map(date=2019):\n",
    "    Nice = tree_maps(date=date)\n",
    "    display(Nice)\n",
    "    \n",
    "    \n",
    "def show_vege_and_trees_map():\n",
    "    Nice = vege_and_tree()\n",
    "    display(Nice)  \n"
   ]
  },
  {
   "cell_type": "code",
   "execution_count": null,
   "id": "ce9be763",
   "metadata": {},
   "outputs": [],
   "source": [
    "vege_and_tree()"
   ]
  },
  {
   "cell_type": "code",
   "execution_count": null,
   "id": "e47add67",
   "metadata": {},
   "outputs": [],
   "source": [
    "def show_trees_map(date=2019):\n",
    "    Nice = tree_maps(date=date)\n",
    "    display(Nice)"
   ]
  },
  {
   "cell_type": "code",
   "execution_count": null,
   "id": "793f210a",
   "metadata": {},
   "outputs": [],
   "source": [
    "def show_vege_and_trees_map():\n",
    "    Nice = vege_and_tree()\n",
    "    display(Nice)"
   ]
  },
  {
   "cell_type": "code",
   "execution_count": null,
   "id": "2ef13030",
   "metadata": {},
   "outputs": [],
   "source": [
    "show_vege_and_trees_map()"
   ]
  },
  {
   "cell_type": "code",
   "execution_count": null,
   "id": "ab3fced1",
   "metadata": {},
   "outputs": [],
   "source": [
    "all_coords2 = all_coords.map(lambda x : eval(x))"
   ]
  },
  {
   "cell_type": "code",
   "execution_count": null,
   "id": "7fc162bf",
   "metadata": {},
   "outputs": [],
   "source": [
    "coordinates = [coords['coordinates'] for coords in all_coords2]"
   ]
  },
  {
   "cell_type": "code",
   "execution_count": null,
   "id": "94b19042",
   "metadata": {},
   "outputs": [],
   "source": [
    "trees = ee.Geometry.MultiPoint(coordinates) \n",
    "#Nice= folium.Map(location=[7.28045496, 43.70684086],zoom_start=4)\n",
    "        "
   ]
  },
  {
   "cell_type": "code",
   "execution_count": null,
   "id": "136b5870",
   "metadata": {},
   "outputs": [],
   "source": [
    "Nice.addLayer(ee.Image().paint(trees,\"green\",1),{},'Trees')\n"
   ]
  },
  {
   "cell_type": "code",
   "execution_count": null,
   "id": "af330c46",
   "metadata": {},
   "outputs": [],
   "source": [
    "Nice.setCenter(7.2717,43.696,zoom=13)"
   ]
  },
  {
   "cell_type": "code",
   "execution_count": null,
   "id": "a55255c8",
   "metadata": {},
   "outputs": [],
   "source": []
  },
  {
   "cell_type": "markdown",
   "id": "6ae93ea6",
   "metadata": {},
   "source": [
    "# Trees in 2020 in Nice"
   ]
  },
  {
   "cell_type": "code",
   "execution_count": null,
   "id": "97c79704",
   "metadata": {},
   "outputs": [],
   "source": [
    "dftrees20= pd.read_csv(\"../raw_data/ev-arbre-opendata-2020.csv\",sep = ';')"
   ]
  },
  {
   "cell_type": "code",
   "execution_count": null,
   "id": "1f6b7db8",
   "metadata": {},
   "outputs": [],
   "source": [
    "dftrees20.shape[0] - trees2019.shape[0]"
   ]
  },
  {
   "cell_type": "markdown",
   "id": "9f155ed3",
   "metadata": {},
   "source": [
    "## 821 arbres ont été plantés à Nice entre 2019 et 2020 soit environ 3%"
   ]
  },
  {
   "cell_type": "code",
   "execution_count": null,
   "id": "01bfd781",
   "metadata": {},
   "outputs": [],
   "source": [
    "all_coords20 = dftrees20.geometry.map(lambda x : eval(x))\n",
    "coordinates20 = [coords['coordinates'] for coords in all_coords20]"
   ]
  },
  {
   "cell_type": "code",
   "execution_count": null,
   "id": "2d071aad",
   "metadata": {},
   "outputs": [],
   "source": [
    "ee.Initialize()"
   ]
  },
  {
   "cell_type": "code",
   "execution_count": null,
   "id": "ca7e26cd",
   "metadata": {},
   "outputs": [],
   "source": [
    "Nice2020 = folium.Map(location=[7.28045496, 43.70684086],zoom_start=4)"
   ]
  },
  {
   "cell_type": "code",
   "execution_count": null,
   "id": "3264cf3c",
   "metadata": {},
   "outputs": [],
   "source": [
    "#Nice2020.setOptions('SATELLITE')"
   ]
  },
  {
   "cell_type": "code",
   "execution_count": null,
   "id": "e66aecfa",
   "metadata": {},
   "outputs": [],
   "source": [
    "trees2020 = ee.Geometry.MultiPoint(coordinates20) \n",
    "\n",
    "        "
   ]
  },
  {
   "cell_type": "code",
   "execution_count": null,
   "id": "296cff17",
   "metadata": {},
   "outputs": [],
   "source": [
    "Nice2020.addLayer(ee.Image().paint(trees2020,\"green\",1),{},'Trees')"
   ]
  },
  {
   "cell_type": "code",
   "execution_count": null,
   "id": "5cdbefde",
   "metadata": {},
   "outputs": [],
   "source": [
    "Nice2020.setCenter(7.2717,43.696,zoom=13)\n",
    "Nice2020"
   ]
  },
  {
   "cell_type": "markdown",
   "id": "91820de4",
   "metadata": {},
   "source": [
    "# Add vegetalization"
   ]
  },
  {
   "cell_type": "code",
   "execution_count": null,
   "id": "666bda8e",
   "metadata": {},
   "outputs": [],
   "source": [
    "vege2020 = pd.read_csv(\"../raw_data/ev-inventaire-opendata-2020.csv\",sep = ';')"
   ]
  },
  {
   "cell_type": "code",
   "execution_count": null,
   "id": "03d80edc",
   "metadata": {},
   "outputs": [],
   "source": [
    "vege2020"
   ]
  },
  {
   "cell_type": "code",
   "execution_count": null,
   "id": "6807cb05",
   "metadata": {},
   "outputs": [],
   "source": [
    "vege2020 = vege2020.geometry.map(lambda x : eval(x))"
   ]
  },
  {
   "cell_type": "code",
   "execution_count": null,
   "id": "1329177a",
   "metadata": {},
   "outputs": [],
   "source": []
  },
  {
   "cell_type": "code",
   "execution_count": null,
   "id": "64296736",
   "metadata": {},
   "outputs": [],
   "source": [
    "len(vege2020[0]['coordinates'][0][0])#185,38,2"
   ]
  },
  {
   "cell_type": "code",
   "execution_count": null,
   "id": "a2a114c5",
   "metadata": {},
   "outputs": [],
   "source": [
    "vege2020[4]['type'] == 'Polygon'"
   ]
  },
  {
   "cell_type": "code",
   "execution_count": null,
   "id": "2255fd07",
   "metadata": {},
   "outputs": [],
   "source": [
    "vege20 = [coords['coordinates'] for coords in vege2020 if coords['type'] != 'MultiPolygon']"
   ]
  },
  {
   "cell_type": "code",
   "execution_count": null,
   "id": "881c9788",
   "metadata": {},
   "outputs": [],
   "source": [
    "multivege20 = [coords['coordinates'] for coords in vege2020 if coords['type'] == 'MultiPolygon']"
   ]
  },
  {
   "cell_type": "code",
   "execution_count": null,
   "id": "3841ead4",
   "metadata": {},
   "outputs": [],
   "source": []
  },
  {
   "cell_type": "code",
   "execution_count": null,
   "id": "d7f25b4b",
   "metadata": {},
   "outputs": [],
   "source": [
    "len(vege20)#185,38,2"
   ]
  },
  {
   "cell_type": "code",
   "execution_count": null,
   "id": "1abd064b",
   "metadata": {},
   "outputs": [],
   "source": [
    "vege20"
   ]
  },
  {
   "cell_type": "code",
   "execution_count": null,
   "id": "f1b5d6be",
   "metadata": {},
   "outputs": [],
   "source": [
    "#import numpy as np\n",
    "#vege20 = np.array(vege20)"
   ]
  },
  {
   "cell_type": "code",
   "execution_count": null,
   "id": "5371aaf1",
   "metadata": {},
   "outputs": [],
   "source": [
    "len(vege20)#number of polygons"
   ]
  },
  {
   "cell_type": "code",
   "execution_count": null,
   "id": "45238f93",
   "metadata": {},
   "outputs": [],
   "source": [
    "Nice20 = folium.Map(location=[43.70684086,7.28045496 ],zoom_start=10)\n",
    "vege20 = [coords['coordinates'] for coords in vege2020 if coords['type'] != 'MultiPolygon']\n",
    "vege20 = ee.Geometry.MultiPolygon(vege20[0:164])\n",
    "Nice20.addLayer(ee.Image().paint(vege20,10),{},'Vegetations')"
   ]
  },
  {
   "cell_type": "code",
   "execution_count": null,
   "id": "9241cd75",
   "metadata": {},
   "outputs": [],
   "source": [
    "multivege20 = [coords['coordinates'] for coords in vege2020 if coords['type'] == 'MultiPolygon']"
   ]
  },
  {
   "cell_type": "code",
   "execution_count": null,
   "id": "2a119433",
   "metadata": {},
   "outputs": [],
   "source": [
    "len(multivege20[1][0])#2,1,25,2 if [1,19] else 3"
   ]
  },
  {
   "cell_type": "code",
   "execution_count": null,
   "id": "c58f556d",
   "metadata": {},
   "outputs": [],
   "source": [
    "print(multivege20[1][1])"
   ]
  },
  {
   "cell_type": "code",
   "execution_count": null,
   "id": "a79ee7dd",
   "metadata": {},
   "outputs": [],
   "source": [
    "Nice20vegetandtrees = Nice2020\n",
    "multivege20 = [coords['coordinates'] for coords in vege2020 if coords['type'] == 'MultiPolygon']\n",
    "vege20 = [coords['coordinates'] for coords in vege2020 if coords['type'] != 'MultiPolygon']\n",
    "for i in range(len(multivege20)):\n",
    "    multivege201 = ee.Geometry.MultiPolygon(multivege20[i])\n",
    "    Nice20vegetandtrees.addLayer(ee.Image().paint(multivege201,1),{\"color\" : \"662A00\"},'colored')\n",
    "vege20 = ee.Geometry.MultiPolygon(vege20[0:164])\n",
    "Nice20vegetandtrees.addLayer(ee.Image().paint(vege20,10),{},'Vegetations')"
   ]
  },
  {
   "cell_type": "code",
   "execution_count": null,
   "id": "8b8598ad",
   "metadata": {},
   "outputs": [],
   "source": [
    "Nice20vegetandtrees"
   ]
  },
  {
   "cell_type": "code",
   "execution_count": null,
   "id": "162171bf",
   "metadata": {},
   "outputs": [],
   "source": [
    "Nice20vegetandtrees.save('nice2020a_veget_and_trees.html')"
   ]
  },
  {
   "cell_type": "code",
   "execution_count": null,
   "id": "d974117b",
   "metadata": {},
   "outputs": [],
   "source": [
    "gfc2014 = ee.Image('UMD/hansen/global_forest_change_2015');\n",
    "lossImage = gfc2014.select(['loss']);\n",
    "gainImage = gfc2014.select(['gain']);"
   ]
  },
  {
   "cell_type": "code",
   "execution_count": null,
   "id": "937c8618",
   "metadata": {},
   "outputs": [],
   "source": [
    "data = gd.SmarTrees(ee_image=\"UMD/hansen/global_forest_change_2015\")"
   ]
  },
  {
   "cell_type": "code",
   "execution_count": null,
   "id": "744f55a0",
   "metadata": {},
   "outputs": [],
   "source": [
    "data = gd.SmarTrees()"
   ]
  },
  {
   "cell_type": "code",
   "execution_count": null,
   "id": "b8ef5037",
   "metadata": {},
   "outputs": [],
   "source": [
    "data.display_folium_map()"
   ]
  },
  {
   "cell_type": "code",
   "execution_count": null,
   "id": "978e41f7",
   "metadata": {},
   "outputs": [],
   "source": []
  }
 ],
 "metadata": {
  "kernelspec": {
   "display_name": "Smartrees2",
   "language": "python",
   "name": "smartrees2"
  },
  "language_info": {
   "codemirror_mode": {
    "name": "ipython",
    "version": 3
   },
   "file_extension": ".py",
   "mimetype": "text/x-python",
   "name": "python",
   "nbconvert_exporter": "python",
   "pygments_lexer": "ipython3",
   "version": "3.8.10"
  },
  "toc": {
   "base_numbering": 1,
   "nav_menu": {},
   "number_sections": true,
   "sideBar": true,
   "skip_h1_title": false,
   "title_cell": "Table of Contents",
   "title_sidebar": "Contents",
   "toc_cell": false,
   "toc_position": {},
   "toc_section_display": true,
   "toc_window_display": false
  }
 },
 "nbformat": 4,
 "nbformat_minor": 5
}
